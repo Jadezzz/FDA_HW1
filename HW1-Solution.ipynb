{
 "cells": [
  {
   "cell_type": "markdown",
   "metadata": {},
   "source": [
    "# Solution for FDA Course HW1 \n",
    "Author: 林家緯 F74054122"
   ]
  },
  {
   "cell_type": "markdown",
   "metadata": {},
   "source": [
    "## Part 1\n",
    "Dataset: [Reviews.csv](https://drive.google.com/file/d/1JUM5y1o4hYdZIioy2gN-I22a8673S6Pt/view?usp=sharing)"
   ]
  },
  {
   "cell_type": "code",
   "execution_count": 1,
   "metadata": {},
   "outputs": [],
   "source": [
    "import pandas as pd\n",
    "pd.options.mode.chained_assignment = None\n",
    "\n",
    "import matplotlib.pyplot as plt\n",
    "%matplotlib inline\n",
    "\n",
    "\n",
    "import numpy as np\n",
    "\n",
    "WIDTH = 12\n",
    "HEIGHT = 8"
   ]
  },
  {
   "cell_type": "code",
   "execution_count": 2,
   "metadata": {},
   "outputs": [],
   "source": [
    "dataset = pd.read_csv('Reviews.csv')\n",
    "pd_data = dataset[:10000]"
   ]
  },
  {
   "cell_type": "markdown",
   "metadata": {},
   "source": [
    "### 1. Top-10 Reviewer"
   ]
  },
  {
   "cell_type": "code",
   "execution_count": 3,
   "metadata": {},
   "outputs": [
    {
     "data": {
      "text/html": [
       "<div>\n",
       "<style scoped>\n",
       "    .dataframe tbody tr th:only-of-type {\n",
       "        vertical-align: middle;\n",
       "    }\n",
       "\n",
       "    .dataframe tbody tr th {\n",
       "        vertical-align: top;\n",
       "    }\n",
       "\n",
       "    .dataframe thead th {\n",
       "        text-align: right;\n",
       "    }\n",
       "</style>\n",
       "<table border=\"1\" class=\"dataframe\">\n",
       "  <thead>\n",
       "    <tr style=\"text-align: right;\">\n",
       "      <th></th>\n",
       "      <th></th>\n",
       "      <th>Score count</th>\n",
       "      <th>Score mean</th>\n",
       "    </tr>\n",
       "    <tr>\n",
       "      <th>UserId</th>\n",
       "      <th>ProfileName</th>\n",
       "      <th></th>\n",
       "      <th></th>\n",
       "    </tr>\n",
       "  </thead>\n",
       "  <tbody>\n",
       "    <tr>\n",
       "      <th>A1Z54EM24Y40LL</th>\n",
       "      <th>c2</th>\n",
       "      <td>17</td>\n",
       "      <td>3.882353</td>\n",
       "    </tr>\n",
       "    <tr>\n",
       "      <th>A2SZLNSI5KOQJT</th>\n",
       "      <th>Carrie, \"Formerly &amp;#34;Sister Carrie&amp;#34;\"</th>\n",
       "      <td>10</td>\n",
       "      <td>3.800000</td>\n",
       "    </tr>\n",
       "    <tr>\n",
       "      <th>A35R32TA60XD57</th>\n",
       "      <th>M. Torma</th>\n",
       "      <td>9</td>\n",
       "      <td>4.111111</td>\n",
       "    </tr>\n",
       "    <tr>\n",
       "      <th>A281NPSIMI1C2R</th>\n",
       "      <th>Rebecca of Amazon \"The Rebecca Review\"</th>\n",
       "      <td>8</td>\n",
       "      <td>5.000000</td>\n",
       "    </tr>\n",
       "    <tr>\n",
       "      <th>A3OXHLG6DIBRW8</th>\n",
       "      <th>C. F. Hill \"CFH\"</th>\n",
       "      <td>7</td>\n",
       "      <td>4.428571</td>\n",
       "    </tr>\n",
       "    <tr>\n",
       "      <th>A3NHUQ33CFH3VM</th>\n",
       "      <th>Citizen John</th>\n",
       "      <td>7</td>\n",
       "      <td>3.142857</td>\n",
       "    </tr>\n",
       "    <tr>\n",
       "      <th>A3PJZ8TU8FDQ1K</th>\n",
       "      <th>Jared Castle</th>\n",
       "      <td>7</td>\n",
       "      <td>4.714286</td>\n",
       "    </tr>\n",
       "    <tr>\n",
       "      <th>AQ6SHOW0VMZGF</th>\n",
       "      <th>K. Padgett \"familyof5\"</th>\n",
       "      <td>6</td>\n",
       "      <td>2.666667</td>\n",
       "    </tr>\n",
       "    <tr>\n",
       "      <th>A26NFIQ7KWI8Y7</th>\n",
       "      <th>kt rose</th>\n",
       "      <td>6</td>\n",
       "      <td>2.666667</td>\n",
       "    </tr>\n",
       "    <tr>\n",
       "      <th>A10H24TDLK2VDP</th>\n",
       "      <th>William Jens Jensen</th>\n",
       "      <td>6</td>\n",
       "      <td>3.000000</td>\n",
       "    </tr>\n",
       "  </tbody>\n",
       "</table>\n",
       "</div>"
      ],
      "text/plain": [
       "                                                           Score count  \\\n",
       "UserId         ProfileName                                               \n",
       "A1Z54EM24Y40LL c2                                                   17   \n",
       "A2SZLNSI5KOQJT Carrie, \"Formerly &#34;Sister Carrie&#34;\"           10   \n",
       "A35R32TA60XD57 M. Torma                                              9   \n",
       "A281NPSIMI1C2R Rebecca of Amazon \"The Rebecca Review\"                8   \n",
       "A3OXHLG6DIBRW8 C. F. Hill \"CFH\"                                      7   \n",
       "A3NHUQ33CFH3VM Citizen John                                          7   \n",
       "A3PJZ8TU8FDQ1K Jared Castle                                          7   \n",
       "AQ6SHOW0VMZGF  K. Padgett \"familyof5\"                                6   \n",
       "A26NFIQ7KWI8Y7 kt rose                                               6   \n",
       "A10H24TDLK2VDP William Jens Jensen                                   6   \n",
       "\n",
       "                                                           Score mean  \n",
       "UserId         ProfileName                                             \n",
       "A1Z54EM24Y40LL c2                                            3.882353  \n",
       "A2SZLNSI5KOQJT Carrie, \"Formerly &#34;Sister Carrie&#34;\"    3.800000  \n",
       "A35R32TA60XD57 M. Torma                                      4.111111  \n",
       "A281NPSIMI1C2R Rebecca of Amazon \"The Rebecca Review\"        5.000000  \n",
       "A3OXHLG6DIBRW8 C. F. Hill \"CFH\"                              4.428571  \n",
       "A3NHUQ33CFH3VM Citizen John                                  3.142857  \n",
       "A3PJZ8TU8FDQ1K Jared Castle                                  4.714286  \n",
       "AQ6SHOW0VMZGF  K. Padgett \"familyof5\"                        2.666667  \n",
       "A26NFIQ7KWI8Y7 kt rose                                       2.666667  \n",
       "A10H24TDLK2VDP William Jens Jensen                           3.000000  "
      ]
     },
     "execution_count": 3,
     "metadata": {},
     "output_type": "execute_result"
    }
   ],
   "source": [
    "id_grouped = pd_data.groupby(['UserId', 'ProfileName'])\n",
    "\n",
    "top_10_reviewers = id_grouped['Score'].agg(['count', 'mean']).sort_values(by='count', ascending=False)[:10]\n",
    "name = {'count':'Score count', 'mean':'Score mean'}\n",
    "top_10_reviewers = top_10_reviewers.rename(columns=name, level=0)\n",
    "\n",
    "top_10_reviewers"
   ]
  },
  {
   "cell_type": "markdown",
   "metadata": {},
   "source": [
    "### 2. Plot score distribution for the user with the most number of reviews"
   ]
  },
  {
   "cell_type": "code",
   "execution_count": 4,
   "metadata": {},
   "outputs": [
    {
     "data": {
      "image/png": "[encoded data removed]",
      "text/plain": [
       "<Figure size 864x576 with 1 Axes>"
      ]
     },
     "metadata": {
      "needs_background": "light"
     },
     "output_type": "display_data"
    }
   ],
   "source": [
    "top_reviewer = top_10_reviewers.iloc[0].name[0]\n",
    "reviews_from_top_reviewer = pd_data.loc[pd_data['UserId'] == top_reviewer]\n",
    "scores = reviews_from_top_reviewer['Score']\n",
    "\n",
    "from collections import Counter\n",
    "\n",
    "labels, values = zip(*Counter(scores).items())\n",
    "\n",
    "labels = labels[::-1]\n",
    "values = values[::-1]\n",
    "\n",
    "indexes = np.arange(len(labels))\n",
    "\n",
    "plt.rcParams['figure.figsize'] = [WIDTH, HEIGHT]\n",
    "plt.bar(indexes, values, 0.7)\n",
    "plt.xticks(indexes, labels)\n",
    "plt.xlabel('Score')\n",
    "plt.ylabel('Count')\n",
    "plt.title('Score Distribution')\n",
    "plt.show()"
   ]
  },
  {
   "cell_type": "markdown",
   "metadata": {},
   "source": [
    "### 3. Plot pandas Series DataFrame (Time->Date)"
   ]
  },
  {
   "cell_type": "code",
   "execution_count": 5,
   "metadata": {},
   "outputs": [
    {
     "data": {
      "image/png": "[encoded data removed]",
      "text/plain": [
       "<Figure size 864x576 with 1 Axes>"
      ]
     },
     "metadata": {
      "needs_background": "light"
     },
     "output_type": "display_data"
    }
   ],
   "source": [
    "df = (pd.to_datetime(pd_data['Time'], unit='s')\n",
    "       .value_counts()\n",
    "       .rename_axis('date')\n",
    "       .reset_index(name='count')\n",
    "       .sort_values(by='date'))\n",
    "\n",
    "x = df['date'].astype(\"M8[ms]\").tolist()\n",
    "plt.bar(x, df['count'], 5)\n",
    "plt.xlabel('Date')\n",
    "plt.ylabel('Review count')\n",
    "plt.rcParams['figure.figsize'] = [WIDTH, HEIGHT]\n",
    "plt.show()"
   ]
  },
  {
   "cell_type": "markdown",
   "metadata": {},
   "source": [
    "### 4. Plot HeatMap using seaborn"
   ]
  },
  {
   "cell_type": "code",
   "execution_count": 6,
   "metadata": {},
   "outputs": [
    {
     "data": {
      "image/png": "[encoded data removed]",
      "text/plain": [
       "<Figure size 864x576 with 2 Axes>"
      ]
     },
     "metadata": {
      "needs_background": "light"
     },
     "output_type": "display_data"
    }
   ],
   "source": [
    "import seaborn as sns\n",
    "\n",
    "selected_data = pd_data[['Id', 'HelpfulnessNumerator', 'HelpfulnessDenominator', 'Score', 'Time']]\n",
    "sns.heatmap(selected_data.corr(), annot=True, square=True)\n",
    "plt.rcParams['figure.figsize'] = [WIDTH, HEIGHT]\n",
    "plt.show()"
   ]
  },
  {
   "cell_type": "markdown",
   "metadata": {},
   "source": [
    "### 5. Helpful percent"
   ]
  },
  {
   "cell_type": "code",
   "execution_count": 7,
   "metadata": {},
   "outputs": [
    {
     "data": {
      "image/png": "[encoded data removed]",
      "text/plain": [
       "<Figure size 864x576 with 1 Axes>"
      ]
     },
     "metadata": {
      "needs_background": "light"
     },
     "output_type": "display_data"
    }
   ],
   "source": [
    "data = pd_data[['HelpfulnessNumerator', 'HelpfulnessDenominator']]\n",
    "data['Helpful percent'] = data['HelpfulnessNumerator'] / data['HelpfulnessDenominator']\n",
    "plt.hist(data['Helpful percent'].dropna())\n",
    "plt.title('Helpful Percent')\n",
    "plt.xlabel('Percentage')\n",
    "plt.ylabel('Count')\n",
    "plt.rcParams['figure.figsize'] = [WIDTH, HEIGHT]\n",
    "plt.show()"
   ]
  },
  {
   "cell_type": "markdown",
   "metadata": {},
   "source": [
    "## Part 2"
   ]
  },
  {
   "cell_type": "code",
   "execution_count": null,
   "metadata": {},
   "outputs": [],
   "source": []
  }
 ],
 "metadata": {
  "kernelspec": {
   "display_name": "Python 3",
   "language": "python",
   "name": "python3"
  },
  "language_info": {
   "codemirror_mode": {
    "name": "ipython",
    "version": 3
   },
   "file_extension": ".py",
   "mimetype": "text/x-python",
   "name": "python",
   "nbconvert_exporter": "python",
   "pygments_lexer": "ipython3",
   "version": "3.7.1"
  }
 },
 "nbformat": 4,
 "nbformat_minor": 2
}
